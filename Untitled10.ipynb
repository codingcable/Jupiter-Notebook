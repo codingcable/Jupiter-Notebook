{
 "cells": [
  {
   "cell_type": "code",
   "execution_count": 1,
   "metadata": {},
   "outputs": [
    {
     "name": "stdout",
     "output_type": "stream",
     "text": [
      "<p class=\"instock availability\">\n",
      "<i class=\"icon-ok\"></i>\n",
      "    \n",
      "        In stock (22 available)\n",
      "    \n",
      "</p>\n"
     ]
    }
   ],
   "source": [
    "import requests\n",
    "from bs4 import BeautifulSoup\n",
    "\n",
    "# fonction qui isole et extrait le nombre dans l'expression affichant le nombre d'exemplaires disponibles\n",
    "def extraire_nombre(expression_brute):\n",
    "    i = -12\n",
    "    nombre_a_extraire = ''\n",
    "    while expression_brute[i] != '(' and expression_brute[i] != ' ':\n",
    "        nombre_a_extraire += expression_brute[i]\n",
    "        i -= 1\n",
    "    return int(\"\".join(reversed(nombre_a_extraire)))\n",
    "\n",
    "url = 'http://books.toscrape.com/catalogue/a-light-in-the-attic_1000/index.html'\n",
    "\n",
    "response = requests.get(url)\n",
    "\n",
    "\n",
    "if response.ok:\n",
    "    soup = BeautifulSoup(response.content, 'lxml')\n",
    "    titre = soup.find('h1')\n",
    "    product_information_values = soup.find_all('td')\n",
    "    product_information_description = soup.find('div', id = 'product_description')\n",
    "    # print(product_information_description)\n",
    "    product_star_rating = soup.find('p', class_ = 'instock availability')\n",
    "    print(product_star_rating)\n",
    "\n",
    "\n",
    "# création du dictionnaire des données scrapées\n",
    "informations_demandees = {}\n",
    "informations_demandees[\"titre\"] = titre.text\n",
    "informations_demandees[\"UPC\"] = product_information_values[0].text\n",
    "informations_demandees[\"prix hors taxes\"] = product_information_values[2].text\n",
    "informations_demandees[\"prix taxes incluses\"] = product_information_values[3].text\n",
    "informations_demandees[\"nombres disponibles\"] = extraire_nombre(product_information_values[5].text)\n",
    "\n",
    "# print(informations_demandees)\n",
    "\n",
    "\n"
   ]
  },
  {
   "cell_type": "code",
   "execution_count": null,
   "metadata": {},
   "outputs": [],
   "source": []
  }
 ],
 "metadata": {
  "kernelspec": {
   "display_name": "Python 3",
   "language": "python",
   "name": "python3"
  },
  "language_info": {
   "codemirror_mode": {
    "name": "ipython",
    "version": 3
   },
   "file_extension": ".py",
   "mimetype": "text/x-python",
   "name": "python",
   "nbconvert_exporter": "python",
   "pygments_lexer": "ipython3",
   "version": "3.8.5"
  }
 },
 "nbformat": 4,
 "nbformat_minor": 4
}
